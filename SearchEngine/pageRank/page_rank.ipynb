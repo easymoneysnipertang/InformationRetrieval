{
 "cells": [
  {
   "cell_type": "markdown",
   "metadata": {},
   "source": [
    "## 使用networkx计算PageRank"
   ]
  },
  {
   "cell_type": "code",
   "execution_count": 1,
   "metadata": {},
   "outputs": [],
   "source": [
    "import networkx as nx\n",
    "\n",
    "# 创建一个有向图\n",
    "G = nx.DiGraph()"
   ]
  },
  {
   "cell_type": "markdown",
   "metadata": {},
   "source": [
    "### 读取mysql数据库"
   ]
  },
  {
   "cell_type": "code",
   "execution_count": 2,
   "metadata": {},
   "outputs": [],
   "source": [
    "import pymysql\n",
    "cnx = pymysql.connect(host='localhost', user='root', password='123qwe12')\n",
    "cursor = cnx.cursor()\n",
    "cnx.select_db('IR_db')"
   ]
  },
  {
   "cell_type": "code",
   "execution_count": 3,
   "metadata": {},
   "outputs": [],
   "source": [
    "def get_douban_url_as_node():\n",
    "    # 创建SQL查询\n",
    "    sql = \"SELECT url FROM douban\"\n",
    "    # 执行查询\n",
    "    cursor.execute(sql)\n",
    "    # 获取所有的结果\n",
    "    results = cursor.fetchall()\n",
    "    # 将结果从元组列表转换为普通列表，并添加到图中作为节点\n",
    "    for result in results:\n",
    "        G.add_node(result[0])\n"
   ]
  },
  {
   "cell_type": "code",
   "execution_count": 4,
   "metadata": {},
   "outputs": [],
   "source": [
    "\n",
    "def get_ids_from_same_title():\n",
    "    # 创建SQL查询\n",
    "    sql = \"SELECT page_id FROM same_title\"\n",
    "    # 执行查询\n",
    "    cursor.execute(sql)\n",
    "    # 获取所有的结果\n",
    "    results = cursor.fetchall()\n",
    "    # 将结果从元组列表转换为普通列表\n",
    "    ids_same_title = [result[0] for result in results]\n",
    "    return ids_same_title\n",
    "\n",
    "def get_page_url_as_node():\n",
    "    global ids_page\n",
    "    # 创建SQL查询\n",
    "    sql = \"SELECT id,url FROM page\"\n",
    "    # 执行查询\n",
    "    cursor.execute(sql)\n",
    "    # 获取所有的结果\n",
    "    results = cursor.fetchall()\n",
    "    # 将结果从元组列表转换为普通列表\n",
    "    ids = [result[0] for result in results]\n",
    "    urls = [result[1] for result in results]\n",
    "    # 获取相同title的id\n",
    "    ids_same_title = get_ids_from_same_title()\n",
    "    print(len(ids_same_title))\n",
    "    # 去除相同title的id\n",
    "    for id,url in zip(ids,urls):\n",
    "        if id not in ids_same_title:\n",
    "            G.add_node(url)\n",
    "\n",
    "    # 从same_title中按title分组，获取每组的第一个id\n",
    "    sql = \"SELECT MIN(page_id) FROM same_title GROUP BY title\"\n",
    "    cursor.execute(sql)\n",
    "    results = cursor.fetchall()\n",
    "    ids = [result[0] for result in results]\n",
    "    print(len(ids))\n",
    "    # 找到这些id对应的url\n",
    "    for id in ids:\n",
    "        sql = \"SELECT url FROM page WHERE id = %d\" % id\n",
    "        cursor.execute(sql)\n",
    "        results = cursor.fetchall()\n",
    "        url = results[0]\n",
    "        G.add_node(url)"
   ]
  },
  {
   "cell_type": "markdown",
   "metadata": {},
   "source": [
    "### 创建节点 × 没必要了，创建边的时候会自动创建节点"
   ]
  },
  {
   "cell_type": "code",
   "execution_count": 5,
   "metadata": {},
   "outputs": [],
   "source": [
    "get_douban_url_as_node()"
   ]
  },
  {
   "cell_type": "code",
   "execution_count": 6,
   "metadata": {},
   "outputs": [
    {
     "name": "stdout",
     "output_type": "stream",
     "text": [
      "1435\n",
      "610\n"
     ]
    }
   ],
   "source": [
    "get_page_url_as_node()"
   ]
  },
  {
   "cell_type": "markdown",
   "metadata": {},
   "source": [
    "### 创建节点之间的边"
   ]
  },
  {
   "cell_type": "code",
   "execution_count": 7,
   "metadata": {},
   "outputs": [],
   "source": [
    "def get_douban_edges():\n",
    "    # 从数据库中获取所有的记录\n",
    "    sql = \"SELECT url, links FROM douban\"\n",
    "    cursor.execute(sql)\n",
    "    results = cursor.fetchall()\n",
    "     # 对于每一条记录\n",
    "    for url, links in results:\n",
    "        # 将links按照'\\n'解析成一个列表\n",
    "        links = links.split('\\n')\n",
    "        # 对于每一个link\n",
    "        for link in links:\n",
    "           G.add_edge(url, link)"
   ]
  },
  {
   "cell_type": "code",
   "execution_count": 9,
   "metadata": {},
   "outputs": [],
   "source": [
    "get_douban_edges()"
   ]
  },
  {
   "cell_type": "code",
   "execution_count": 8,
   "metadata": {},
   "outputs": [],
   "source": [
    "def create_url_to_url_mapping():\n",
    "    # 创建一个空的映射\n",
    "    url_to_url = {}\n",
    "    # 从same_title表中按title分组，获取每组的第一个URL\n",
    "    sql = \"SELECT MIN(page_id), title FROM same_title GROUP BY title\"\n",
    "    cursor.execute(sql)\n",
    "    results = cursor.fetchall()\n",
    "    # 将每个title的所有URL映射到对应的节点\n",
    "    for page_id, title in results:\n",
    "        # 获取该title的第一个URL\n",
    "        sql = \"SELECT url FROM same_title WHERE page_id = %d\" % page_id\n",
    "        cursor.execute(sql)\n",
    "        results = cursor.fetchall()\n",
    "        target_url = results[0]\n",
    "        # 获取该title的所有URL\n",
    "        sql = \"SELECT url FROM same_title WHERE title = %s\"\n",
    "        cursor.execute(sql,(title,))\n",
    "        urls = cursor.fetchall()\n",
    "        for url in urls:\n",
    "            url_to_url[url] = target_url\n",
    "    return url_to_url"
   ]
  },
  {
   "cell_type": "code",
   "execution_count": 10,
   "metadata": {},
   "outputs": [],
   "source": [
    "# 拿到同title的url映射\n",
    "url_to_url = create_url_to_url_mapping()"
   ]
  },
  {
   "cell_type": "code",
   "execution_count": 11,
   "metadata": {},
   "outputs": [],
   "source": [
    "def get_page_edges():\n",
    "    # 从数据库中获取所有的记录\n",
    "    sql = \"SELECT url, links FROM page\"\n",
    "    cursor.execute(sql)\n",
    "    results = cursor.fetchall()\n",
    "    # 对于每一条记录\n",
    "    for url, links in results:\n",
    "        # 如果URL在映射中，使用映射中的值替换URL\n",
    "        url = url_to_url.get(url, url)\n",
    "        # 将links按照'\\n'解析成一个列表\n",
    "        links = links.split('\\n')\n",
    "        # 对于每一个link\n",
    "        for link in links:\n",
    "            # 如果link在映射中，使用映射中的值替换link\n",
    "            link = url_to_url.get(link, link)\n",
    "            # 在图G中添加一条从url到link的边\n",
    "            G.add_edge(url, link)"
   ]
  },
  {
   "cell_type": "code",
   "execution_count": 12,
   "metadata": {},
   "outputs": [],
   "source": [
    "get_page_edges()"
   ]
  },
  {
   "cell_type": "markdown",
   "metadata": {},
   "source": [
    "### 计算PageRank"
   ]
  },
  {
   "cell_type": "code",
   "execution_count": 13,
   "metadata": {},
   "outputs": [],
   "source": [
    "def cal_page_rank():\n",
    "    # 使用networkx中的pagerank函数计算PR值\n",
    "    pr = nx.pagerank(G)\n",
    "    return pr"
   ]
  },
  {
   "cell_type": "markdown",
   "metadata": {},
   "source": [
    "### 更新es索引"
   ]
  },
  {
   "cell_type": "code",
   "execution_count": 14,
   "metadata": {},
   "outputs": [],
   "source": [
    "from elasticsearch import Elasticsearch\n",
    "\n",
    "# 实例化es\n",
    "es = Elasticsearch(hosts=\"http://localhost:9200\")"
   ]
  },
  {
   "cell_type": "code",
   "execution_count": 39,
   "metadata": {},
   "outputs": [
    {
     "name": "stdout",
     "output_type": "stream",
     "text": [
      "0.0021668640962373142\n"
     ]
    }
   ],
   "source": [
    "# 使用URL搜索文档\n",
    "res = es.search(index=\"web\", body={\"query\": {\"match\": {\"url\": 'https://www.runoob.com/'}}})\n",
    "# 查看page_id\n",
    "page_id = res['hits']['hits'][0]['_source']['pageRank']\n",
    "print(page_id)"
   ]
  },
  {
   "cell_type": "code",
   "execution_count": 15,
   "metadata": {},
   "outputs": [],
   "source": [
    "from elasticsearch.helpers import scan\n",
    "\n",
    "def add_page_rank_to_documents(pr):\n",
    "    # 遍历web索引中的所有文档\n",
    "    for doc in scan(es, index='web'):\n",
    "        # 获取文档的URL\n",
    "        url = doc['_source']['url']\n",
    "        # 在pr字典中查询对应的PageRank值\n",
    "        page_rank = pr.get(url)\n",
    "        # 如果找到了PageRank值\n",
    "        if page_rank is not None:\n",
    "            # 更新文档，添加pageRank字段\n",
    "            es.update(index='web', id=doc['_id'], body={'doc': {'pageRank': page_rank}})\n",
    "        else :\n",
    "            # 否则，设置pageRank字段为0\n",
    "            es.update(index='web', id=doc['_id'], body={'doc': {'pageRank': 0}})"
   ]
  },
  {
   "cell_type": "code",
   "execution_count": 16,
   "metadata": {},
   "outputs": [],
   "source": [
    "pr = cal_page_rank()"
   ]
  },
  {
   "cell_type": "code",
   "execution_count": 17,
   "metadata": {},
   "outputs": [],
   "source": [
    "add_page_rank_to_documents(pr)"
   ]
  },
  {
   "cell_type": "code",
   "execution_count": 18,
   "metadata": {},
   "outputs": [
    {
     "name": "stdout",
     "output_type": "stream",
     "text": [
      "Title: 从心理学的角度来谈谈, PageRank: 3.8256922927265375e-05\n",
      "Title: 谁才是那个真正的看不见的客人？, PageRank: 3.8256922927265375e-05\n",
      "Title: 《看不见的客人》中有哪些高明的细节？, PageRank: 3.8256922927265375e-05\n",
      "Title: 细节是一切的关键――关于本片剧情逻辑的思考, PageRank: 3.8256922927265375e-05\n",
      "Title: 这是今年你能在影院里看到的最穷的电影。, PageRank: 3.8256922927265375e-05\n",
      "Title: 看不见的客人 Contratiempo, PageRank: 0.0005824634839805538\n",
      "Title: 孙子，别装了, PageRank: 2.3971626135516338e-05\n",
      "Title: 《无耻混蛋》:关于电影的电影, PageRank: 2.3971626135516338e-05\n",
      "Title: 疯癫的诗意, PageRank: 2.3971626135516338e-05\n",
      "Title: 谁才是混蛋？我还真不知道……, PageRank: 2.3971626135516338e-05\n",
      "Title: 小游戏, PageRank: 2.3971626135516338e-05\n",
      "Title: 杰作·未完成, PageRank: 2.3971626135516338e-05\n",
      "Title: 我就乐意这样低俗了, PageRank: 2.3971626135516338e-05\n",
      "Title: 犹太版抗日奇侠, PageRank: 2.3971626135516338e-05\n",
      "Title: 《无耻混蛋》：代表人民爆你的头, PageRank: 2.3971626135516338e-05\n",
      "Title: 无耻混蛋 Inglourious Basterds, PageRank: 0.00023483768004152637\n",
      "Title: 多数现代人对《哈姆雷特》的理解，也就是《狮子王》了吧, PageRank: 2.3473086367071186e-05\n",
      "Title: 没有the lion king，我的生活会是另一样, PageRank: 2.3473086367071186e-05\n",
      "Title: Long live the king, PageRank: 2.3473086367071186e-05\n",
      "Title: 最喜欢的一个画面, PageRank: 2.3473086367071186e-05\n",
      "Title: 狮子王3D：不是去欣赏一场电影，而是去寻找一段回忆, PageRank: 2.3473086367071186e-05\n",
      "Title: 儿时美好的回忆, PageRank: 2.3473086367071186e-05\n",
      "Title: LOVE, RESPONSIBILITY, PageRank: 2.3473086367071186e-05\n",
      "Title: 一部伴随人成长的电影, PageRank: 2.3473086367071186e-05\n",
      "Title: 关于《狮子王》自身的魅力与人性问题的思考, PageRank: 2.3473086367071186e-05\n",
      "Title: KING and CROWN, PageRank: 2.3473086367071186e-05\n",
      "Title: 狮子王 The Lion King, PageRank: 0.00023524457951182732\n",
      "Title: 天空之城, PageRank: 3.619874621678216e-05\n",
      "Title: 天空之城, PageRank: 3.619874621678216e-05\n",
      "Title: 支配意义的扩充, PageRank: 3.619874621678216e-05\n",
      "Title: 人人心中都有一个乌托邦, PageRank: 3.619874621678216e-05\n",
      "Title: 《天空之城》里的女性力量与自然元素, PageRank: 3.619874621678216e-05\n",
      "Title: 请让我成为这样的机器人, PageRank: 3.619874621678216e-05\n",
      "Title: 撒哈拉的热风与冒险魂, PageRank: 3.619874621678216e-05\n",
      "Title: 钢琴在狠狠蔓延的高潮之后渐息渐止，并缓缓结束, PageRank: 3.619874621678216e-05\n",
      "Title: 天空之城 天空の城ラピュタ, PageRank: 0.00047325151074118925\n",
      "Title: 看到荒漠，也看到微光。, PageRank: 2.4196597328521657e-05\n",
      "Title: 可是那然后呢, PageRank: 2.4196597328521657e-05\n",
      "Title: 被误读的“活在当下”, PageRank: 2.4196597328521657e-05\n",
      "Title: 电影还没上映评论区就有人拿zzzq来兴风作浪了，那就对线吧, PageRank: 2.4196597328521657e-05\n",
      "Title: 为什么逻辑混乱的美式鸡汤会抬高公共沟通成本？, PageRank: 2.4196597328521657e-05\n",
      "Title: 看皮克斯的人长大了, PageRank: 2.4196597328521657e-05\n",
      "Title: 整部电影太高级了！从内而外，视听嗅味触通五感的高级！皮克斯，永远的神！, PageRank: 2.4196597328521657e-05\n",
      "Title: 灵魂不会击垮你  生活也不会, PageRank: 2.4196597328521657e-05\n",
      "Title: 追求梦想是最不重要的，看天空、走路、吃披萨才是正事！, PageRank: 2.4196597328521657e-05\n",
      "Title: 《心灵奇旅》（Soul）文化背景分析：何谓火花（Spark）？柏拉图的灵肉三分, PageRank: 2.4196597328521657e-05\n",
      "Title: 心灵奇旅 Soul, PageRank: 0.00025055252028228733\n",
      "Title: 影片之外的收获, PageRank: 2.339766110197618e-05\n",
      "Title: 孩子不是父母实现梦想的工具，也不是一门要投资的生意, PageRank: 2.339766110197618e-05\n",
      "Title: 相比《摔跤吧！爸爸》，中国更需要这部片子, PageRank: 2.339766110197618e-05\n",
      "Title: 从来没有最好成长的路径, PageRank: 2.339766110197618e-05\n",
      "Title: 如果你有一个天才孩子，该怎么教育？, PageRank: 2.339766110197618e-05\n",
      "Title: 如何拍一部主流商业片, PageRank: 2.339766110197618e-05\n",
      "Title: 从细节中，看《天才少女》的良苦用心, PageRank: 2.339766110197618e-05\n",
      "Title: 当“美国队长”遇上天才小萝莉——北美新片《天才少女》漫谈, PageRank: 2.339766110197618e-05\n",
      "Title: 因为你值得这世上最好的, PageRank: 2.339766110197618e-05\n",
      "Title: 天才的需要, PageRank: 2.339766110197618e-05\n",
      "Title: 天才少女 Gifted, PageRank: 0.0002329012955991786\n",
      "Title: 他所带来的。。。, PageRank: 2.808884668704584e-05\n",
      "Title: 我们都喜欢披头四, PageRank: 2.808884668704584e-05\n",
      "Title: Love is all we need, PageRank: 2.808884668704584e-05\n",
      "Title: 爱是一种能力, PageRank: 2.808884668704584e-05\n",
      "Title: All we need is LOVE, PageRank: 2.808884668704584e-05\n",
      "Title: 在较健全社会里特殊人群如何养孩子——写给青少年（1）[猫], PageRank: 2.808884668704584e-05\n",
      "Title: Lucy in the sky with diamond_ I am sam, PageRank: 2.808884668704584e-05\n",
      "Title: 爱是恒久忍耐，又有恩慈。, PageRank: 2.808884668704584e-05\n",
      "Title: 不一样的爸爸  一样的爱, PageRank: 2.808884668704584e-05\n",
      "Title: 父爱如山, PageRank: 2.808884668704584e-05\n",
      "Title: 我是山姆 I Am Sam, PageRank: 0.00034220225726819503\n",
      "Title: 不抒情地朗诵, PageRank: 2.681995878046142e-05\n",
      "Title: 致我们不再回来的纯粹, PageRank: 2.681995878046142e-05\n",
      "Title: 奔跑，以爱的名义, PageRank: 2.681995878046142e-05\n",
      "Title: 云淡风轻, PageRank: 2.681995878046142e-05\n",
      "Title: 没钱不要养孩子？, PageRank: 2.681995878046142e-05\n",
      "Title: 奔跑着的天堂, PageRank: 2.681995878046142e-05\n",
      "Title: The Children of Heaven：予奔跑以一种爱和幸福, PageRank: 2.681995878046142e-05\n",
      "Title: 即使从未放弃过去寻找，找到了却再不是你的了, PageRank: 2.681995878046142e-05\n",
      "Title: 朴朴实实才是真, PageRank: 2.681995878046142e-05\n",
      "Title: 小鞋子 بچه های آسمان, PageRank: 0.00030310674861171703\n",
      "Title: 北野武的感恩与供养, PageRank: 2.9700813279751937e-05\n",
      "Title: 《菊次郎的夏天》B面, PageRank: 2.9700813279751937e-05\n",
      "Title: 八格呀路，夏天, PageRank: 2.9700813279751937e-05\n",
      "Title: 以儿童的名义，祝我自己, PageRank: 2.9700813279751937e-05\n",
      "Title: 你不懂我，因为我是摩羯座。, PageRank: 2.9700813279751937e-05\n",
      "Title: 《菊次郎的夏天》在北野武的作品序列里是什么水准和地位？, PageRank: 2.9700813279751937e-05\n",
      "Title: 夜幕下的星光, PageRank: 2.9700813279751937e-05\n",
      "Title: 那么，我走了, PageRank: 2.9700813279751937e-05\n",
      "Title: 《读懂菊次郎，读懂北野武的夏天》, PageRank: 2.9700813279751937e-05\n",
      "Title: 菊次郎的夏天 菊次郎の夏, PageRank: 0.00036655077349022553\n",
      "Title: 抄袭年——跑题漫谈, PageRank: 2.968519110752472e-05\n",
      "Title: 包世宏的老婆真标致, PageRank: 2.968519110752472e-05\n",
      "Title: 《疯狂的石头》：一石激起千层浪, PageRank: 2.968519110752472e-05\n",
      "Title: 全面解读《疯狂的石头》, PageRank: 2.968519110752472e-05\n",
      "Title: 巧妙的幽默炸弹——我看《疯狂的石头》, PageRank: 2.968519110752472e-05\n",
      "Title: 石头很疯狂, PageRank: 2.968519110752472e-05\n",
      "Title: 重庆森林, PageRank: 2.968519110752472e-05\n",
      "Title: 终于开窍了――浅析“宁浩现象”, PageRank: 2.968519110752472e-05\n",
      "Title: 宁浩的开山之作, PageRank: 2.968519110752472e-05\n",
      "Title: 难得有逻辑的电影, PageRank: 2.968519110752472e-05\n",
      "Title: 疯狂的石头, PageRank: 0.00037836916717197834\n"
     ]
    }
   ],
   "source": [
    "## 打印PageRank值\n",
    "# 获取web索引中的前一百条文档\n",
    "res = es.search(index=\"web\", body={\"query\": {\"match_all\": {}}}, size=100)\n",
    "\n",
    "# 遍历这些文档\n",
    "for doc in res['hits']['hits']:\n",
    "    # 获取并打印文档的title和pageRank字段\n",
    "    title = doc['_source'].get('title', 'Not available')\n",
    "    page_rank = doc['_source'].get('pageRank', 'Not available')\n",
    "    print(f\"Title: {title}, PageRank: {page_rank}\")"
   ]
  },
  {
   "cell_type": "markdown",
   "metadata": {},
   "source": [
    "### 测试pageRank影响排序结果"
   ]
  },
  {
   "cell_type": "code",
   "execution_count": 18,
   "metadata": {},
   "outputs": [],
   "source": [
    "def deal_bool_query(query):\n",
    "    # 执行搜索\n",
    "    response = es.search(\n",
    "        index=\"web\",\n",
    "        body={\n",
    "            \"query\": {\n",
    "                \"function_score\": {\n",
    "                    \"query\": {\n",
    "                        \"bool\": {\n",
    "                            \"must\": [\n",
    "                                {\n",
    "                                    \"multi_match\": {\n",
    "                                        \"query\": query,\n",
    "                                        \"fields\": [\"title\", \"content\"]\n",
    "                                    }\n",
    "                                }\n",
    "                            ]\n",
    "                        }\n",
    "                    },\n",
    "                    \"script_score\": {\n",
    "                        \"script\": {\n",
    "                            \"source\": \"doc['pageRank'].value == 0 ? 1 : Math.log1p(doc['pageRank'].value * params.factor)\",\n",
    "                            \"params\": {\n",
    "                                \"factor\": 100000\n",
    "                            }\n",
    "                        }\n",
    "                    },\n",
    "                    \"boost_mode\": \"sum\"\n",
    "                }\n",
    "            },\n",
    "            \"explain\": True  # 添加这一行\n",
    "        }\n",
    "    )\n",
    "    # 获取搜索结果\n",
    "    hits = response[\"hits\"][\"hits\"]\n",
    "    # 格式化搜索结果\n",
    "    results = [\n",
    "        {\n",
    "            \"id\": hit[\"_id\"],\n",
    "            \"title\": hit[\"_source\"][\"title\"],\n",
    "            \"content\": hit[\"_source\"][\"content\"],\n",
    "            \"url\": hit[\"_source\"][\"url\"],\n",
    "            \"type\": hit[\"_source\"][\"type\"],\n",
    "            \"pageRank\": hit[\"_source\"][\"pageRank\"],\n",
    "            \"explanation\": hit[\"_explanation\"]  # 添加这一行\n",
    "        }\n",
    "        for hit in hits\n",
    "    ]\n",
    "    return results"
   ]
  },
  {
   "cell_type": "code",
   "execution_count": 22,
   "metadata": {},
   "outputs": [
    {
     "name": "stdout",
     "output_type": "stream",
     "text": [
      "此次，中国恒大停牌距其复牌仅一个月。此前，中国恒大于2022年3月21日起停牌，在经历了停牌超17个月后，中国恒大宣布于今年8月28日起重新复牌。 https://www.thepaper.cn/newsDetail_forward_24776842 news\n",
      "44.82041\n",
      "0\n",
      "两年净亏损8120亿-总负债超24万亿中国恒大已资不抵债 https://www.jiemian.com/article/9760788.html news\n",
      "32.080894\n",
      "0\n",
      "国资房企远洋集团爆雷半年巨亏近200亿票据-债券也濒临违约 http://www.stcn.com/article/detail/947042.html news\n",
      "28.747662\n",
      "0\n",
      "中国恒大复牌首日-盘中跌90 https://wallstreetcn.com/articles/3696497 news\n",
      "25.952293\n",
      "0\n",
      "中国恒大-恒大汽车和恒大物业在港交所集体停牌 http://03333.HK news\n",
      "25.64689\n",
      "0\n",
      "知情人士恒驰汽车优化淘汰10-25员工停薪留职1至3个月 https://www.thepaper.cn/newsDetail_forward_20991720 news\n",
      "24.574154\n",
      "0\n",
      "中国恒大将于周一在香港复牌 https://www.guancha.cn/GongSi/2023_08_26_706438.shtml news\n",
      "24.55366\n",
      "0\n",
      "多股现闪崩-长春高新又因集采传闻跌停 https://weibo.cn/sinaurl?u=https%3A%2F%2Fwww.caixin.com%2F2023-06-09%2F102064128.html news\n",
      "23.724459\n",
      "0\n",
      "多所港澳台高校发布通知知网4月1日起将暂停提供部分服务 https://www.thepaper.cn/newsDetail_forward_22523161 news\n",
      "21.979973\n",
      "0\n",
      "h-12国台办海关总署今起恢复台湾地区冰鲜白带鱼-冻竹荚鱼输入 https://news.sina.com.cn/o/2023-03-15/doc-imykxtwx4802521.shtml news\n",
      "21.541649\n",
      "0\n"
     ]
    }
   ],
   "source": [
    "results = deal_bool_query('中国恒大于2022年3月21日起停牌')\n",
    "\n",
    "for result in results:\n",
    "    print(result['title'], result['url'], result['type'])\n",
    "    print(result['explanation']['value'])\n",
    "    print(result['pageRank'])\n",
    "    "
   ]
  },
  {
   "cell_type": "code",
   "execution_count": 139,
   "metadata": {},
   "outputs": [
    {
     "name": "stdout",
     "output_type": "stream",
     "text": [
      "3.691837003831898\n",
      "1.5995795503532988\n",
      "8.272020702549892\n",
      "5.9816541727124815\n"
     ]
    }
   ],
   "source": [
    "import math\n",
    "\n",
    "print(math.log1p(0.00039118477103319317*100000))\n",
    "print(math.log1p(3.9509503613941765e-05*100000))\n",
    "\n",
    "print(math.log1p(0.00039118477103319317*10000000))\n",
    "print(math.log1p(3.9509503613941765e-05*10000000))"
   ]
  }
 ],
 "metadata": {
  "kernelspec": {
   "display_name": "Python 3",
   "language": "python",
   "name": "python3"
  },
  "language_info": {
   "codemirror_mode": {
    "name": "ipython",
    "version": 3
   },
   "file_extension": ".py",
   "mimetype": "text/x-python",
   "name": "python",
   "nbconvert_exporter": "python",
   "pygments_lexer": "ipython3",
   "version": "3.7.9"
  }
 },
 "nbformat": 4,
 "nbformat_minor": 2
}

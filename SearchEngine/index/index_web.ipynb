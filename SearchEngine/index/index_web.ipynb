{
 "cells": [
  {
   "cell_type": "markdown",
   "metadata": {},
   "source": [
    "## 把网页保存到es中"
   ]
  },
  {
   "cell_type": "code",
   "execution_count": 1,
   "metadata": {},
   "outputs": [],
   "source": [
    "import pymysql\n",
    "# 创建连接\n",
    "cnx = pymysql.connect(host='localhost', user='root', password='123qwe12')\n",
    "cursor = cnx.cursor()"
   ]
  },
  {
   "cell_type": "code",
   "execution_count": 27,
   "metadata": {},
   "outputs": [
    {
     "name": "stdout",
     "output_type": "stream",
     "text": [
      "5374\n",
      "1435\n",
      "5699\n"
     ]
    }
   ],
   "source": [
    "ids_douban = []\n",
    "ids_page = []\n",
    "\n",
    "def create_database():\n",
    "    # 创建数据库\n",
    "    cursor.execute(\"CREATE DATABASE IF NOT EXISTS IR_db\")\n",
    "    # 使用数据库\n",
    "    cnx.select_db('IR_db')\n",
    "\n",
    "def get_ids_from_douban():\n",
    "    # 创建SQL查询\n",
    "    sql = \"SELECT id FROM douban\"\n",
    "    # 执行查询\n",
    "    cursor.execute(sql)\n",
    "    # 获取所有的结果\n",
    "    results = cursor.fetchall()\n",
    "    # 将结果从元组列表转换为普通列表\n",
    "    ids_douban = [result[0] for result in results]\n",
    "    return ids_douban\n",
    "\n",
    "def get_ids_from_same_title():\n",
    "    # 创建SQL查询\n",
    "    sql = \"SELECT page_id FROM same_title\"\n",
    "    # 执行查询\n",
    "    cursor.execute(sql)\n",
    "    # 获取所有的结果\n",
    "    results = cursor.fetchall()\n",
    "    # 将结果从元组列表转换为普通列表\n",
    "    ids_same_title = [result[0] for result in results]\n",
    "    return ids_same_title\n",
    "\n",
    "def get_ids_from_page():\n",
    "    global ids_page\n",
    "    # 创建SQL查询\n",
    "    sql = \"SELECT id FROM page\"\n",
    "    # 执行查询\n",
    "    cursor.execute(sql)\n",
    "    # 获取所有的结果\n",
    "    results = cursor.fetchall()\n",
    "    # 将结果从元组列表转换为普通列表\n",
    "    ids = [result[0] for result in results]\n",
    "    # 获取相同title的id\n",
    "    ids_same_title = get_ids_from_same_title()\n",
    "    print(len(ids_same_title))\n",
    "    # 去除相同title的id\n",
    "    for id in ids:\n",
    "        if id not in ids_same_title:\n",
    "            ids_page.append(id)\n",
    "    # 从same_title中按title分组，获取每组的第一个id\n",
    "    sql = \"SELECT MIN(page_id) FROM same_title GROUP BY title\"\n",
    "    cursor.execute(sql)\n",
    "    results = cursor.fetchall()\n",
    "    ids = [result[0] for result in results]\n",
    "    # 将结果添加到ids_page中\n",
    "    ids_page.extend(ids)\n",
    "\n",
    "def get_content(table, id):\n",
    "    # 创建SQL查询\n",
    "    sql = \"SELECT * FROM {} WHERE id = %s\".format(table)\n",
    "    # 执行查询\n",
    "    cursor.execute(sql, (id,))\n",
    "    # 获取结果\n",
    "    result = cursor.fetchone()\n",
    "    # 如果结果不为空，将结果转换为字典并返回，否则返回None\n",
    "    if result:\n",
    "        return {\n",
    "            'id': result[0],\n",
    "            'title': result[1],\n",
    "            'content': result[2],\n",
    "            'url': result[3]\n",
    "        }\n",
    "    else:\n",
    "        return None\n",
    "\n",
    "create_database()\n",
    "ids_douban = get_ids_from_douban()\n",
    "print(len(ids_douban))\n",
    "get_ids_from_page()\n",
    "print(len(ids_page))\n"
   ]
  },
  {
   "cell_type": "markdown",
   "metadata": {},
   "source": [
    "### 创建es索引"
   ]
  },
  {
   "cell_type": "code",
   "execution_count": 1,
   "metadata": {},
   "outputs": [],
   "source": [
    "from elasticsearch import Elasticsearch\n",
    "\n",
    "# 实例化es\n",
    "es = Elasticsearch(hosts=\"http://localhost:9200\")\n",
    "\n",
    "#es.indices.create(index='web')"
   ]
  },
  {
   "cell_type": "markdown",
   "metadata": {},
   "source": [
    "### 读取数据插入web"
   ]
  },
  {
   "cell_type": "code",
   "execution_count": 28,
   "metadata": {},
   "outputs": [],
   "source": [
    "global_id = 1\n",
    "def insert_douban_web():\n",
    "    global global_id\n",
    "    for id in ids_douban:\n",
    "        # 获取内容\n",
    "        content = get_content('douban', id)\n",
    "        doc = {\n",
    "            'web_id': content['id'],\n",
    "            'title': content['title'],\n",
    "            'content': content['content'],\n",
    "            'url': content['url'],\n",
    "            'type': 'douban'\n",
    "        }\n",
    "        # 插入数据\n",
    "        es.create(index='web', id = global_id, document=doc)\n",
    "        global_id += 1\n",
    "\n",
    "def insert_page_web():\n",
    "    global global_id\n",
    "    for id in ids_page:\n",
    "        # 获取内容\n",
    "        content = get_content('page', id)\n",
    "        doc = {\n",
    "            'web_id': content['id'],\n",
    "            'title': content['title'],\n",
    "            'content': content['content'],\n",
    "            'url': content['url'],\n",
    "            'type': 'page'\n",
    "        }\n",
    "        # 插入数据\n",
    "        es.create(index='web', id = global_id, document=doc)\n",
    "        global_id += 1    "
   ]
  },
  {
   "cell_type": "code",
   "execution_count": 29,
   "metadata": {},
   "outputs": [
    {
     "name": "stdout",
     "output_type": "stream",
     "text": [
      "douban done 5375\n",
      "page done 11074\n"
     ]
    }
   ],
   "source": [
    "global_id = 1\n",
    "insert_douban_web()\n",
    "print('douban done', global_id)\n",
    "insert_page_web()\n",
    "print('page done', global_id)"
   ]
  },
  {
   "cell_type": "code",
   "execution_count": 24,
   "metadata": {},
   "outputs": [
    {
     "data": {
      "text/plain": [
       "ObjectApiResponse({'acknowledged': True})"
      ]
     },
     "execution_count": 24,
     "metadata": {},
     "output_type": "execute_result"
    }
   ],
   "source": [
    "es.indices.delete(index='web')"
   ]
  },
  {
   "cell_type": "markdown",
   "metadata": {},
   "source": [
    "### 测试查询数据"
   ]
  },
  {
   "cell_type": "code",
   "execution_count": 30,
   "metadata": {},
   "outputs": [
    {
     "name": "stdout",
     "output_type": "stream",
     "text": [
      "Document count: 11073\n"
     ]
    }
   ],
   "source": [
    "response = es.count(index='web')\n",
    "print('Document count:', response['count'])"
   ]
  },
  {
   "cell_type": "code",
   "execution_count": 2,
   "metadata": {},
   "outputs": [],
   "source": [
    "def deal_bool_query(query):\n",
    "    # 执行搜索\n",
    "    response = es.search(\n",
    "        index=\"web\",\n",
    "        body={\n",
    "            \"query\": {\n",
    "                \"bool\": {\n",
    "                    \"must\": [\n",
    "                        {\n",
    "                            \"multi_match\": {\n",
    "                                \"query\": query,\n",
    "                                \"fields\": [\"title\", \"content\"]\n",
    "                            }\n",
    "                        }\n",
    "                    ]\n",
    "                }\n",
    "            }\n",
    "        }\n",
    "    )\n",
    "    # 获取搜索结果\n",
    "    hits = response[\"hits\"][\"hits\"]\n",
    "    # 格式化搜索结果\n",
    "    results = [\n",
    "        {\n",
    "            \"id\": hit[\"_id\"],\n",
    "            \"title\": hit[\"_source\"][\"title\"],\n",
    "            \"content\": hit[\"_source\"][\"content\"],\n",
    "            \"url\": hit[\"_source\"][\"url\"],\n",
    "            \"type\": hit[\"_source\"][\"type\"]\n",
    "        }\n",
    "        for hit in hits\n",
    "    ]\n",
    "    return results"
   ]
  },
  {
   "cell_type": "code",
   "execution_count": 4,
   "metadata": {},
   "outputs": [
    {
     "name": "stdout",
     "output_type": "stream",
     "text": [
      "肖申克的救赎 https://book.douban.com/subject/1829226/ douban\n",
      "十年·肖申克的救赎 https://movie.douban.com/review/1000369/ douban\n",
      "肖申克的救赎 The Shawshank Redemption https://movie.douban.com/subject/1292052/ douban\n",
      "《肖申克的救赎》到底“救赎”了什么？ https://movie.douban.com/review/10350620/ douban\n",
      "肖申克的救赎，读书笔记 https://book.douban.com/review/1336253/ douban\n",
      "《肖申克的救赎》的一些幕后花絮 https://movie.douban.com/review/1062920/ douban\n",
      "为何《肖申克的救赎》在IMDb和豆瓣都能排第一？ https://movie.douban.com/review/9259304/ douban\n",
      "汲汲而生，汲汲而死 https://book.douban.com/review/1597365/ douban\n",
      "《肖申克的救赎》：1994—2007，希望就是现实 https://movie.douban.com/review/1127585/ douban\n",
      "关于“救赎” https://movie.douban.com/review/8848890/ douban\n"
     ]
    }
   ],
   "source": [
    "results = deal_bool_query('肖申克的救赎')\n",
    "for result in results:\n",
    "    print(result['title'], result['url'], result['type'])"
   ]
  }
 ],
 "metadata": {
  "kernelspec": {
   "display_name": "Python 3",
   "language": "python",
   "name": "python3"
  },
  "language_info": {
   "codemirror_mode": {
    "name": "ipython",
    "version": 3
   },
   "file_extension": ".py",
   "mimetype": "text/x-python",
   "name": "python",
   "nbconvert_exporter": "python",
   "pygments_lexer": "ipython3",
   "version": "3.7.9"
  }
 },
 "nbformat": 4,
 "nbformat_minor": 2
}

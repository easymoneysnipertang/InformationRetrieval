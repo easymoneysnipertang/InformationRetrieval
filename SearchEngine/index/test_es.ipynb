{
 "cells": [
  {
   "cell_type": "markdown",
   "metadata": {},
   "source": [
    "# 学习使用elastic search"
   ]
  },
  {
   "cell_type": "code",
   "execution_count": 2,
   "metadata": {},
   "outputs": [
    {
     "data": {
      "text/plain": [
       "ObjectApiResponse({'acknowledged': True, 'shards_acknowledged': True, 'index': 'test'})"
      ]
     },
     "execution_count": 2,
     "metadata": {},
     "output_type": "execute_result"
    }
   ],
   "source": [
    "from elasticsearch import Elasticsearch\n",
    "\n",
    "# 实例化es\n",
    "es = Elasticsearch(hosts=\"http://localhost:9200\")\n",
    "# 创建一个索引为test的索引\n",
    "es.indices.create(index='test')"
   ]
  },
  {
   "cell_type": "markdown",
   "metadata": {},
   "source": [
    "## 插入数据"
   ]
  },
  {
   "cell_type": "code",
   "execution_count": 3,
   "metadata": {},
   "outputs": [
    {
     "data": {
      "text/plain": [
       "ObjectApiResponse({'_index': 'test', '_type': '_doc', '_id': '2', '_version': 1, 'result': 'created', '_shards': {'total': 2, 'successful': 1, 'failed': 0}, '_seq_no': 1, '_primary_term': 1})"
      ]
     },
     "execution_count": 3,
     "metadata": {},
     "output_type": "execute_result"
    }
   ],
   "source": [
    "# 在test索引id为1的位置插入一条数据\n",
    "es.index(index='test',\n",
    "         id=1,\n",
    "         body={\"id\":'1',\"name\":\"小明\"})\n",
    "\n",
    "doc = {\n",
    "    'name': '方天',\n",
    "    'age': '23'\n",
    "}\n",
    "# 在test索引id为2的位置插入一条数据\n",
    "es.index(index='test', id='2', document=doc)"
   ]
  },
  {
   "cell_type": "code",
   "execution_count": 4,
   "metadata": {},
   "outputs": [
    {
     "data": {
      "text/plain": [
       "ObjectApiResponse({'_index': 'test', '_type': '_doc', '_id': '3', '_version': 1, 'result': 'created', '_shards': {'total': 2, 'successful': 1, 'failed': 0}, '_seq_no': 2, '_primary_term': 1})"
      ]
     },
     "execution_count": 4,
     "metadata": {},
     "output_type": "execute_result"
    }
   ],
   "source": [
    "doc = {\n",
    "    'name': '杨晨',\n",
    "    'age': '22'\n",
    "}\n",
    "# 在test索引id为3的位置插入一条数据\n",
    "es.create(index='test',id='3', document=doc)"
   ]
  },
  {
   "cell_type": "markdown",
   "metadata": {},
   "source": [
    "## 删除数据"
   ]
  },
  {
   "cell_type": "code",
   "execution_count": 6,
   "metadata": {},
   "outputs": [
    {
     "data": {
      "text/plain": [
       "ObjectApiResponse({'_index': 'test', '_type': '_doc', '_id': '3', '_version': 2, 'result': 'deleted', '_shards': {'total': 2, 'successful': 1, 'failed': 0}, '_seq_no': 3, '_primary_term': 1})"
      ]
     },
     "execution_count": 6,
     "metadata": {},
     "output_type": "execute_result"
    }
   ],
   "source": [
    "# 删除test索引id为3的数据\n",
    "es.delete(index='test',id='3')"
   ]
  },
  {
   "cell_type": "markdown",
   "metadata": {},
   "source": [
    "## 更新数据"
   ]
  },
  {
   "cell_type": "code",
   "execution_count": 10,
   "metadata": {},
   "outputs": [
    {
     "data": {
      "text/plain": [
       "ObjectApiResponse({'_index': 'test', '_type': '_doc', '_id': '2', '_version': 3, 'result': 'updated', '_shards': {'total': 2, 'successful': 1, 'failed': 0}, '_seq_no': 5, '_primary_term': 1})"
      ]
     },
     "execution_count": 10,
     "metadata": {},
     "output_type": "execute_result"
    }
   ],
   "source": [
    "doc = {\n",
    "    'name': '李邱俊',\n",
    "    'age': '20',\n",
    "    'new_field': 'new_value'\n",
    "}\n",
    "# 将test索引id为2的数据更新为新数据\n",
    "es.update(index='test',id='2',doc=doc)"
   ]
  },
  {
   "cell_type": "markdown",
   "metadata": {},
   "source": [
    "## 查询操作"
   ]
  },
  {
   "cell_type": "code",
   "execution_count": 11,
   "metadata": {},
   "outputs": [
    {
     "name": "stdout",
     "output_type": "stream",
     "text": [
      "Index: test\n",
      "ID: 2\n",
      "Source: {'name': '李邱俊', 'age': '20', 'new_field': 'new_value'}\n"
     ]
    }
   ],
   "source": [
    "# 查询test索引id为1的数据\n",
    "response = es.get(index='test',id='2')\n",
    "\n",
    "# 解析响应\n",
    "index = response['_index']\n",
    "id = response['_id']\n",
    "source = response['_source']  # 这是实际的文档数据\n",
    "\n",
    "print(f\"Index: {index}\")\n",
    "print(f\"ID: {id}\")\n",
    "print(f\"Source: {source}\")"
   ]
  },
  {
   "cell_type": "code",
   "execution_count": 12,
   "metadata": {},
   "outputs": [
    {
     "name": "stdout",
     "output_type": "stream",
     "text": [
      "{'hits': {'hits': [{'_source': {'age': '20'}}]}}\n"
     ]
    }
   ],
   "source": [
    "# 只显示test索引的age字段信息\n",
    "print(es.search(index='test',filter_path=['hits.hits._source.age']))"
   ]
  },
  {
   "cell_type": "code",
   "execution_count": 13,
   "metadata": {},
   "outputs": [
    {
     "name": "stdout",
     "output_type": "stream",
     "text": [
      "{'took': 5, 'timed_out': False, '_shards': {'total': 1, 'successful': 1, 'skipped': 0, 'failed': 0}, 'hits': {'total': {'value': 2, 'relation': 'eq'}, 'max_score': 1.0, 'hits': [{'_index': 'test', '_type': '_doc', '_id': '1', '_score': 1.0, '_source': {'id': '1', 'name': '小明'}}]}}\n"
     ]
    }
   ],
   "source": [
    "# 查询test索引中，从序号为1的位置查询两条数据\n",
    "print(es.search(index='test', from_=1, size=2))"
   ]
  },
  {
   "cell_type": "code",
   "execution_count": 14,
   "metadata": {},
   "outputs": [
    {
     "name": "stdout",
     "output_type": "stream",
     "text": [
      "{'took': 14, 'timed_out': False, '_shards': {'total': 1, 'successful': 1, 'skipped': 0, 'failed': 0}, 'hits': {'total': {'value': 1, 'relation': 'eq'}, 'max_score': 1.0, 'hits': [{'_index': 'test', '_type': '_doc', '_id': '1', '_score': 1.0, '_source': {'id': '1', 'name': '小明'}}]}}\n"
     ]
    }
   ],
   "source": [
    "# 查询test索引中，name为杨晨或小明的数据\n",
    "print(es.search(index='test', query={'terms':{'name.keyword':['杨晨','小明']}}))"
   ]
  },
  {
   "cell_type": "code",
   "execution_count": 16,
   "metadata": {},
   "outputs": [
    {
     "name": "stdout",
     "output_type": "stream",
     "text": [
      "{'took': 4, 'timed_out': False, '_shards': {'total': 1, 'successful': 1, 'skipped': 0, 'failed': 0}, 'hits': {'total': {'value': 1, 'relation': 'eq'}, 'max_score': 1.0, 'hits': [{'_index': 'test', '_type': '_doc', '_id': '1', '_score': 1.0, '_source': {'id': '1', 'name': '小明'}}]}}\n"
     ]
    }
   ],
   "source": [
    "# 通配符查询 查询test索引中，name字段为小*的数据\n",
    "print(es.search(index='test',query={'wildcard':{'name.keyword':'小?'}}))"
   ]
  },
  {
   "cell_type": "code",
   "execution_count": 17,
   "metadata": {},
   "outputs": [
    {
     "name": "stdout",
     "output_type": "stream",
     "text": [
      "{'took': 5, 'timed_out': False, '_shards': {'total': 1, 'successful': 1, 'skipped': 0, 'failed': 0}, 'hits': {'total': {'value': 1, 'relation': 'eq'}, 'max_score': 1.0, 'hits': [{'_index': 'test', '_type': '_doc', '_id': '2', '_score': 1.0, '_source': {'name': '李邱俊', 'age': '20', 'new_field': 'new_value'}}]}}\n"
     ]
    }
   ],
   "source": [
    "# 正则查询\n",
    "print(es.search(index='test',query={'regexp':{'name.keyword':'李.*'}}))"
   ]
  },
  {
   "cell_type": "markdown",
   "metadata": {},
   "source": [
    "## 删除索引"
   ]
  },
  {
   "cell_type": "code",
   "execution_count": 18,
   "metadata": {},
   "outputs": [
    {
     "data": {
      "text/plain": [
       "ObjectApiResponse({'acknowledged': True})"
      ]
     },
     "execution_count": 18,
     "metadata": {},
     "output_type": "execute_result"
    }
   ],
   "source": [
    "# 删除索引为test的索引\n",
    "es.indices.delete(index='test')"
   ]
  }
 ],
 "metadata": {
  "kernelspec": {
   "display_name": "Python 3",
   "language": "python",
   "name": "python3"
  },
  "language_info": {
   "codemirror_mode": {
    "name": "ipython",
    "version": 3
   },
   "file_extension": ".py",
   "mimetype": "text/x-python",
   "name": "python",
   "nbconvert_exporter": "python",
   "pygments_lexer": "ipython3",
   "version": "3.7.9"
  }
 },
 "nbformat": 4,
 "nbformat_minor": 2
}

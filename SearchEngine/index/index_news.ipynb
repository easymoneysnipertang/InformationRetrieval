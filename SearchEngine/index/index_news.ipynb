{
 "cells": [
  {
   "cell_type": "markdown",
   "metadata": {},
   "source": [
    "## 把mysql中保存的新闻存到es中"
   ]
  },
  {
   "cell_type": "code",
   "execution_count": 1,
   "metadata": {},
   "outputs": [],
   "source": [
    "import pymysql\n",
    "# 创建连接\n",
    "cnx = pymysql.connect(host='localhost', user='root', password='123qwe12')\n",
    "cursor = cnx.cursor()"
   ]
  },
  {
   "cell_type": "code",
   "execution_count": 6,
   "metadata": {},
   "outputs": [],
   "source": [
    "ids = []\n",
    "def create_database():\n",
    "    # 创建数据库\n",
    "    cursor.execute(\"CREATE DATABASE IF NOT EXISTS IR_db\")\n",
    "    # 使用数据库\n",
    "    cnx.select_db('IR_db')\n",
    "\n",
    "def get_ids():\n",
    "    # 创建SQL查询\n",
    "    sql = \"SELECT id FROM html\"\n",
    "    # 执行查询\n",
    "    cursor.execute(sql)\n",
    "    # 获取所有的结果\n",
    "    results = cursor.fetchall()\n",
    "    # 将结果从元组列表转换为普通列表\n",
    "    ids = [result[0] for result in results]\n",
    "    return ids\n",
    "\n",
    "def get_content(id):\n",
    "    # 创建SQL查询\n",
    "    sql = \"SELECT * FROM html WHERE id = %s\"\n",
    "    # 执行查询\n",
    "    cursor.execute(sql, (id,))\n",
    "    # 获取结果\n",
    "    result = cursor.fetchone()\n",
    "    # 如果结果不为空，将结果转换为字典并返回，否则返回None\n",
    "    if result:\n",
    "        return {\n",
    "            'id': result[0],\n",
    "            'title': result[1],\n",
    "            'content': result[2],\n",
    "            'url': result[3],\n",
    "            'date': result[4].strftime(\"%Y-%m-%d\") if result[4] else None\n",
    "        }\n",
    "    else:\n",
    "        return None\n",
    "\n",
    "create_database()\n",
    "ids = get_ids()\n",
    "# get_content(1)"
   ]
  },
  {
   "cell_type": "markdown",
   "metadata": {},
   "source": [
    "### 创建ES索引\n"
   ]
  },
  {
   "cell_type": "code",
   "execution_count": 7,
   "metadata": {},
   "outputs": [
    {
     "data": {
      "text/plain": [
       "ObjectApiResponse({'acknowledged': True, 'shards_acknowledged': True, 'index': 'news'})"
      ]
     },
     "execution_count": 7,
     "metadata": {},
     "output_type": "execute_result"
    }
   ],
   "source": [
    "from elasticsearch import Elasticsearch\n",
    "\n",
    "# 实例化es\n",
    "es = Elasticsearch(hosts=\"http://localhost:9200\")\n",
    "# 创建一个索引为test的索引\n",
    "es.indices.create(index='news')"
   ]
  },
  {
   "cell_type": "markdown",
   "metadata": {},
   "source": [
    "### 读取数据插入ES"
   ]
  },
  {
   "cell_type": "code",
   "execution_count": 8,
   "metadata": {},
   "outputs": [],
   "source": [
    "def insert_data_to_es(id):\n",
    "    # 获取数据\n",
    "    data = get_content(id)\n",
    "    doc = {\n",
    "        'title': data['title'],\n",
    "        'content': data['content'],\n",
    "        'url': data['url'],\n",
    "        'date': data['date']\n",
    "    }\n",
    "    # 插入数据\n",
    "    es.index(index='news', id=id, document=doc)\n",
    "\n",
    "def insert_data_to_es_all():\n",
    "    for id in ids:\n",
    "        insert_data_to_es(id)\n"
   ]
  },
  {
   "cell_type": "code",
   "execution_count": 9,
   "metadata": {},
   "outputs": [],
   "source": [
    "insert_data_to_es_all()"
   ]
  },
  {
   "cell_type": "markdown",
   "metadata": {},
   "source": [
    "### 查询数据"
   ]
  },
  {
   "cell_type": "code",
   "execution_count": 18,
   "metadata": {},
   "outputs": [
    {
     "data": {
      "text/plain": [
       "ObjectApiResponse({'_index': 'news', '_type': '_doc', '_id': '1', '_version': 1, '_seq_no': 0, '_primary_term': 1, '_ignored': ['content.keyword'], 'found': True, '_source': {'title': '越南两位副总理辞去党内职务', 'content': '综合《日经亚洲》和越通社报道，当地时间12月30日，越南常务副总理范平明和负责防疫工作的副总理武德儋被要求辞去党内职务。\\n《日经亚洲》指出，范平明作为中央政治局委员被赶出决策机构是极不寻常的。其需要对组织实施接越南公民回国航班工作中的丑闻负责。\\n此前报道显示，新冠疫情期间，越南安排了约2000班海外救援包机，将滞留海外的越南公民接送回国，但很多人不得不高价购买机票，并经历繁琐手续才能搭乘航班。包括越南外交部长裴青山在内的多名官员近日因此受到处分。\\n《日经亚洲》称，武德儋需要对“越亚案”负责。\\n此前报道显示，越亚公司在Viet A试剂盒获得流通许可后，与越南卫生部门官员勾结，伪造文件、夸大试剂盒材料成本，将试剂盒的参考价抬高了45%。截至6月9日，已有超过60名与越亚案有关的人员被起诉及拘留，其中包括越共中央委员、河内市人民委员会主席（相当于市长）、原科技部长朱玉英和越共中央委员、卫生部长阮青龙。', 'url': 'https://www.guancha.cn/internation/2022_12_31_673623.shtml', 'date': '2022-12-31'}})"
      ]
     },
     "execution_count": 18,
     "metadata": {},
     "output_type": "execute_result"
    }
   ],
   "source": [
    "es.get(index='news',id='1')"
   ]
  },
  {
   "cell_type": "code",
   "execution_count": 19,
   "metadata": {},
   "outputs": [],
   "source": [
    "def deal_bool_query(query):\n",
    "    # 执行搜索\n",
    "    response = es.search(\n",
    "        index=\"news\",\n",
    "        body={\n",
    "            \"query\": {\n",
    "                \"bool\": {\n",
    "                    \"must\": [\n",
    "                        {\n",
    "                            \"multi_match\": {\n",
    "                                \"query\": query,\n",
    "                                \"fields\": [\"title\", \"content\"]\n",
    "                                #\"analyzer\": \"ik_max_word\"  # 使用ik分词器\n",
    "                            }\n",
    "                        }\n",
    "                    ]\n",
    "                }\n",
    "            }\n",
    "        }\n",
    "    )\n",
    "    # 获取搜索结果\n",
    "    hits = response[\"hits\"][\"hits\"]\n",
    "    # 格式化搜索结果\n",
    "    results = [\n",
    "        {\n",
    "            \"id\": hit[\"_id\"],\n",
    "            \"title\": hit[\"_source\"][\"title\"],\n",
    "            \"content\": hit[\"_source\"][\"content\"],\n",
    "            \"url\": hit[\"_source\"][\"url\"],\n",
    "            \"date\": hit[\"_source\"][\"date\"]\n",
    "        }\n",
    "        for hit in hits\n",
    "    ]\n",
    "    return results"
   ]
  },
  {
   "cell_type": "code",
   "execution_count": 20,
   "metadata": {},
   "outputs": [],
   "source": [
    "results = deal_bool_query(\"越南\")\n",
    "for result in results:\n",
    "    print(result['title'], result['date'])"
   ]
  }
 ],
 "metadata": {
  "kernelspec": {
   "display_name": "Python 3",
   "language": "python",
   "name": "python3"
  },
  "language_info": {
   "codemirror_mode": {
    "name": "ipython",
    "version": 3
   },
   "file_extension": ".py",
   "mimetype": "text/x-python",
   "name": "python",
   "nbconvert_exporter": "python",
   "pygments_lexer": "ipython3",
   "version": "3.7.9"
  }
 },
 "nbformat": 4,
 "nbformat_minor": 2
}
